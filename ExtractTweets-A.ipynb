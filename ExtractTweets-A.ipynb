{
 "cells": [
  {
   "cell_type": "code",
   "execution_count": null,
   "id": "5afbc076-5e61-4600-90c3-932ba1b3f2a7",
   "metadata": {},
   "outputs": [],
   "source": [
    "# Dela Rosa, Quielle Xyrone, 181603\n",
    "# Carl Alden Go, 182216\n",
    "# Margarita Juliana Perez, 183848\n",
    "\n",
    "# October 19, 2021\n",
    "\n",
    "# I certify that this submission complies with the DISCS Academic Integrity\n",
    "# Policy.\n",
    "\n",
    "# If I have discussed my Python language code with anyone other than\n",
    "# my instructor(s), my/our groupmate(s), the teaching assistant(s),\n",
    "# the extent of each discussion has been clearly noted along with a proper\n",
    "# citation in the comments of my program.\n",
    "\n",
    "# If any Python language code or documentation used in my program\n",
    "# was obtained from another source, either modified or unmodified, such as a\n",
    "# textbook, website, or another individual, the extent of its use has been\n",
    "# clearly noted along with a proper citation in the comments of my program.\n",
    "\n",
    "################################################################################"
   ]
  },
  {
   "cell_type": "code",
   "execution_count": 6,
   "id": "f998e1a9",
   "metadata": {},
   "outputs": [],
   "source": [
    "#import files and give access to tokens and keys\n",
    "\n",
    "import os\n",
    "import tweepy\n",
    "import pandas\n",
    "import datetime\n",
    "import re\n",
    "\n",
    "access_token= \"1433019455911587842-qpSLTF56N4QxyiHjHrd3QUHdrHMUNR\"\n",
    "access_token_secret= \"55Q5BHHWctXFVErq9qO8nHRPegVAo5gYgbv5Vme90GIJd\"\n",
    "consumer_key= \"xwm2upYEdwLTs9FXXGgBkg2Dp\"\n",
    "consumer_secret= \"HH4xFfvJauWl7IeGWUhabKFmAM2fhVQ9Rnv2tlF8WyAr3Msfwv\"\n",
    "\n",
    "auth = tweepy.OAuthHandler(consumer_key,consumer_secret)\n",
    "auth.set_access_token(access_token,access_token_secret)\n",
    "api = tweepy.API(auth)"
   ]
  },
  {
   "cell_type": "code",
   "execution_count": 7,
   "id": "bf4915db",
   "metadata": {},
   "outputs": [],
   "source": [
    "#set today and yesterday variables\n",
    "today = datetime.date(2021, 10, 7)\n",
    "yesterday = datetime.date(2021, 9, 28)"
   ]
  },
  {
   "cell_type": "code",
   "execution_count": 8,
   "id": "411d23ec",
   "metadata": {},
   "outputs": [],
   "source": [
    "tweets = tweepy.Cursor(api.search, q=\"sex education season 3 -filter:retweets since:\" + str(yesterday)+ \" until:\" + str(today),tweet_mode='extended', lang='en').items(1500)"
   ]
  },
  {
   "cell_type": "code",
   "execution_count": 9,
   "id": "ac067917",
   "metadata": {},
   "outputs": [],
   "source": [
    "#adds tweets to list output\n",
    "output = []\n",
    "for tweet in tweets:\n",
    "    text = tweet._json[\"full_text\"]\n",
    "    created_at = tweet.created_at\n",
    "    twitter_handle = tweet.user.screen_name\n",
    "    \n",
    "    line = {'Tweet Date' : created_at, 'text' : text, 'Twitter Handle' : twitter_handle}\n",
    "    output.append(line)"
   ]
  },
  {
   "cell_type": "code",
   "execution_count": 10,
   "id": "5f3fb676",
   "metadata": {},
   "outputs": [],
   "source": [
    "#creates csv file from list output\n",
    "df = pandas.DataFrame(output)\n",
    "df.to_csv('out/tweets.csv')"
   ]
  },
  {
   "cell_type": "code",
   "execution_count": null,
   "id": "89ed0320-0285-414d-a179-c6cac733cd9e",
   "metadata": {},
   "outputs": [],
   "source": []
  }
 ],
 "metadata": {
  "kernelspec": {
   "display_name": "Python 3 (ipykernel)",
   "language": "python",
   "name": "python3"
  },
  "language_info": {
   "codemirror_mode": {
    "name": "ipython",
    "version": 3
   },
   "file_extension": ".py",
   "mimetype": "text/x-python",
   "name": "python",
   "nbconvert_exporter": "python",
   "pygments_lexer": "ipython3",
   "version": "3.9.5"
  }
 },
 "nbformat": 4,
 "nbformat_minor": 5
}
